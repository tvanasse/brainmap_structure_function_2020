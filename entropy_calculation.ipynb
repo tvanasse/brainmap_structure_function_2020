{
 "cells": [
  {
   "cell_type": "code",
   "execution_count": 1,
   "metadata": {},
   "outputs": [],
   "source": [
    "import pandas as pd\n",
    "import numpy as np"
   ]
  },
  {
   "cell_type": "code",
   "execution_count": 2,
   "metadata": {},
   "outputs": [],
   "source": [
    "behav_loading = pd.read_csv('data/python_entropy_analysis/behavior_loading.csv', sep=',')\n",
    "dis_loading = pd.read_csv('data/python_entropy_analysis/disease_loading.csv',sep=',')"
   ]
  },
  {
   "cell_type": "code",
   "execution_count": 3,
   "metadata": {},
   "outputs": [
    {
     "name": "stderr",
     "output_type": "stream",
     "text": [
      "/Users/tononilab/anaconda3/envs/nsddata/lib/python3.7/site-packages/ipykernel_launcher.py:25: RuntimeWarning: divide by zero encountered in log\n",
      "/Users/tononilab/anaconda3/envs/nsddata/lib/python3.7/site-packages/ipykernel_launcher.py:25: RuntimeWarning: invalid value encountered in multiply\n"
     ]
    }
   ],
   "source": [
    "pos_behav_loading = np.zeros((len(behav_loading),len(behav_loading.columns)-2))\n",
    "\n",
    "# zero negative values\n",
    "column_val = 0\n",
    "for j in behav_loading.columns[2:len(behav_loading.columns)]:\n",
    "    for i in range(0,len(behav_loading)):\n",
    "        if behav_loading.iloc[i][j] > 0:\n",
    "            pos_behav_loading[i,column_val] = behav_loading.iloc[i][j]\n",
    "        else: \n",
    "            pos_behav_loading[i,column_val] = 0\n",
    "    column_val = column_val + 1\n",
    "\n",
    "column_sums = []\n",
    "for j in range(0,pos_behav_loading.shape[1]):\n",
    "        column_sums.append(np.sum(pos_behav_loading[:,j]))\n",
    "\n",
    "# calculate probability as percentage\n",
    "percentage_behav =  np.zeros((len(behav_loading),len(behav_loading.columns)-2))\n",
    "for j in range(0,pos_behav_loading.shape[1]):\n",
    "    for i in range(0,len(behav_loading)):\n",
    "            percentage_behav[i,j] = pos_behav_loading[i][j]/column_sums[j]\n",
    "    column_val = column_val + 1\n",
    "\n",
    "# calculate entropy\n",
    "p_ln_p =  -percentage_behav*np.log(percentage_behav)\n",
    "behav_entropy = []\n",
    "for j in range(0,pos_behav_loading.shape[1]):\n",
    "        behav_entropy.append(np.nansum(p_ln_p[:,j]))\n",
    "        \n",
    "max_behav_entropy = behav_entropy/np.log(len(behav_loading))\n",
    "    "
   ]
  },
  {
   "cell_type": "code",
   "execution_count": 4,
   "metadata": {},
   "outputs": [
    {
     "name": "stderr",
     "output_type": "stream",
     "text": [
      "/Users/tononilab/anaconda3/envs/nsddata/lib/python3.7/site-packages/ipykernel_launcher.py:25: RuntimeWarning: divide by zero encountered in log\n",
      "/Users/tononilab/anaconda3/envs/nsddata/lib/python3.7/site-packages/ipykernel_launcher.py:25: RuntimeWarning: invalid value encountered in multiply\n"
     ]
    }
   ],
   "source": [
    "pos_dis_loading = np.zeros((len(dis_loading),len(dis_loading.columns)-2))\n",
    "\n",
    "# zero negative values\n",
    "column_val = 0\n",
    "for j in dis_loading.columns[2:len(dis_loading.columns)]:\n",
    "    for i in range(0,len(dis_loading)):\n",
    "        if dis_loading.iloc[i][j] > 0:\n",
    "            pos_dis_loading[i,column_val] = dis_loading.iloc[i][j]\n",
    "        else: \n",
    "            pos_dis_loading[i,column_val] = 0\n",
    "    column_val = column_val + 1\n",
    "\n",
    "column_sums = []\n",
    "for j in range(0,pos_dis_loading.shape[1]):\n",
    "        column_sums.append(np.sum(pos_dis_loading[:,j]))\n",
    "    \n",
    "# calculate probability as percentage\n",
    "percentage_dis =  np.zeros((len(dis_loading),len(dis_loading.columns)-2))\n",
    "for j in range(0,pos_dis_loading.shape[1]):\n",
    "    for i in range(0,len(dis_loading)):\n",
    "            percentage_dis[i,j] = pos_dis_loading[i][j]/column_sums[j]\n",
    "    column_val = column_val + 1\n",
    "\n",
    "# calculate entropy\n",
    "p_ln_p =  -percentage_dis*np.log(percentage_dis)\n",
    "dis_entropy = []\n",
    "for j in range(0,pos_dis_loading.shape[1]):\n",
    "        dis_entropy.append(np.nansum(p_ln_p[:,j]))\n",
    "        \n",
    "max_dis_entropy = dis_entropy/np.log(len(dis_loading))\n",
    "    "
   ]
  },
  {
   "cell_type": "code",
   "execution_count": null,
   "metadata": {},
   "outputs": [],
   "source": []
  }
 ],
 "metadata": {
  "kernelspec": {
   "display_name": "Python 3",
   "language": "python",
   "name": "python3"
  },
  "language_info": {
   "codemirror_mode": {
    "name": "ipython",
    "version": 3
   },
   "file_extension": ".py",
   "mimetype": "text/x-python",
   "name": "python",
   "nbconvert_exporter": "python",
   "pygments_lexer": "ipython3",
   "version": "3.7.4"
  }
 },
 "nbformat": 4,
 "nbformat_minor": 2
}
